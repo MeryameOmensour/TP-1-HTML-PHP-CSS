{
  "nbformat": 4,
  "nbformat_minor": 0,
  "metadata": {
    "colab": {
      "provenance": [],
      "authorship_tag": "ABX9TyNMhB7D9cTGxpqCSOGERxbF",
      "include_colab_link": true
    },
    "kernelspec": {
      "name": "python3",
      "display_name": "Python 3"
    },
    "language_info": {
      "name": "python"
    }
  },
  "cells": [
    {
      "cell_type": "markdown",
      "metadata": {
        "id": "view-in-github",
        "colab_type": "text"
      },
      "source": [
        "<a href=\"https://colab.research.google.com/github/MeryameOmensour/TP-1-HTML-PHP-CSS/blob/main/Untitled23.ipynb\" target=\"_parent\"><img src=\"https://colab.research.google.com/assets/colab-badge.svg\" alt=\"Open In Colab\"/></a>"
      ]
    },
    {
      "cell_type": "code",
      "execution_count": null,
      "metadata": {
        "colab": {
          "base_uri": "https://localhost:8080/"
        },
        "id": "uCPI9cvGkF6L",
        "outputId": "294618c4-abf2-43ce-c013-a1bfbd7f022d"
      },
      "outputs": [
        {
          "output_type": "stream",
          "name": "stdout",
          "text": [
            "donnez la note de math\n",
            "12\n",
            "donnez la note de physique\n",
            "13\n",
            "donnez la note de SI\n",
            "4\n",
            "donnez la note de info\n",
            "6\n",
            "donnez la note de FR\n",
            "8\n",
            "donnez la note de TRA\n",
            "13\n",
            "donnez la note de EN\n",
            "12\n",
            "la note maximal est : 13\n",
            "la note minimal est : 4\n"
          ]
        }
      ],
      "source": [
        "matiere = [\"math\", \"physique\", \"SI\", \"info\", \"FR\", \"TRA\", \"EN\"]\n",
        "Coefficient = [7, 7, 7, 3, 5, 2, 3]\n",
        "notes = [0, 0, 0, 0, 0, 0, 0]\n",
        "\n",
        "for i in range(len(notes)):  # Ajout de \":\" après la déclaration de la boucle for\n",
        "    print(\"donnez la note de\", matiere[i])  # Ajout de \",\" pour concaténer correctement la chaîne\n",
        "    notes[i] = int(input())\n",
        "\n",
        "max_notes=max(notes)\n",
        "print(\"la note maximal est :\",max_notes)\n",
        "min_notes= min(notes)\n",
        "print(\"la note minimal est :\",min_notes)"
      ]
    },
    {
      "cell_type": "code",
      "source": [
        "s=0\n",
        "for n in range( 1,21):\n",
        " for k in range(1,n):\n",
        "  s+=n/(n**2+k)\n",
        "print(s)\n"
      ],
      "metadata": {
        "colab": {
          "base_uri": "https://localhost:8080/"
        },
        "id": "L6JNKIbdlGZB",
        "outputId": "975d96b0-4cb8-468f-c78c-6d5354ad6af3"
      },
      "execution_count": null,
      "outputs": [
        {
          "output_type": "stream",
          "name": "stdout",
          "text": [
            "15.498158859334243\n"
          ]
        }
      ]
    },
    {
      "cell_type": "code",
      "source": [
        "n=int(input(\"enterer un entier n :\"))\n",
        "s=0\n",
        "s+=(3*n-9)/(2*n+1)\n",
        "print(\"la valeur de la suite est :\",s)"
      ],
      "metadata": {
        "colab": {
          "base_uri": "https://localhost:8080/"
        },
        "id": "Tt3HIv5xoXfD",
        "outputId": "d4424642-e863-4eb6-ecf3-817b7451becf"
      },
      "execution_count": null,
      "outputs": [
        {
          "output_type": "stream",
          "name": "stdout",
          "text": [
            "enterer un entier n :6\n",
            "la valeur de la suite est : 0.6923076923076923\n"
          ]
        }
      ]
    },
    {
      "cell_type": "code",
      "source": [
        "def u(n):\n",
        "    return (3 * n - 9) / (2 * n + 1)\n",
        "\n",
        "n = int(input(\"Entrez un entier naturel n : \"))\n",
        "resultat = u(n)\n",
        "print(\"La valeur de u_n est :\", resultat)\n"
      ],
      "metadata": {
        "colab": {
          "base_uri": "https://localhost:8080/"
        },
        "id": "3ew2hWd915d6",
        "outputId": "5aeedf9d-d277-4eda-b4d8-e7e81b58ab0d"
      },
      "execution_count": null,
      "outputs": [
        {
          "output_type": "stream",
          "name": "stdout",
          "text": [
            "Entrez un entier naturel n : 6\n",
            "La valeur de u_n est : 0.6923076923076923\n"
          ]
        }
      ]
    },
    {
      "cell_type": "code",
      "source": [
        "def grands(L,x):\n",
        "  listel=L\n",
        "  c=x\n",
        "  for c in listel :\n",
        "    if c[i]>= len(listel):\n",
        "      return c\n",
        "\n",
        "L=[23,6,8,4,0,7]\n",
        "x=3\n",
        "resultat=grands(L,x)\n",
        "print(resultat)\n"
      ],
      "metadata": {
        "colab": {
          "base_uri": "https://localhost:8080/",
          "height": 327
        },
        "id": "jJXJQms72NsJ",
        "outputId": "271c052a-15d8-4173-ece3-68ef8339faed"
      },
      "execution_count": null,
      "outputs": [
        {
          "output_type": "error",
          "ename": "TypeError",
          "evalue": "'int' object is not subscriptable",
          "traceback": [
            "\u001b[0;31m---------------------------------------------------------------------------\u001b[0m",
            "\u001b[0;31mTypeError\u001b[0m                                 Traceback (most recent call last)",
            "\u001b[0;32m<ipython-input-26-6bb89e93fa5d>\u001b[0m in \u001b[0;36m<cell line: 10>\u001b[0;34m()\u001b[0m\n\u001b[1;32m      8\u001b[0m \u001b[0mL\u001b[0m\u001b[0;34m=\u001b[0m\u001b[0;34m[\u001b[0m\u001b[0;36m23\u001b[0m\u001b[0;34m,\u001b[0m\u001b[0;36m6\u001b[0m\u001b[0;34m,\u001b[0m\u001b[0;36m8\u001b[0m\u001b[0;34m,\u001b[0m\u001b[0;36m4\u001b[0m\u001b[0;34m,\u001b[0m\u001b[0;36m0\u001b[0m\u001b[0;34m,\u001b[0m\u001b[0;36m7\u001b[0m\u001b[0;34m]\u001b[0m\u001b[0;34m\u001b[0m\u001b[0;34m\u001b[0m\u001b[0m\n\u001b[1;32m      9\u001b[0m \u001b[0mx\u001b[0m\u001b[0;34m=\u001b[0m\u001b[0;36m3\u001b[0m\u001b[0;34m\u001b[0m\u001b[0;34m\u001b[0m\u001b[0m\n\u001b[0;32m---> 10\u001b[0;31m \u001b[0mresultat\u001b[0m\u001b[0;34m=\u001b[0m\u001b[0mgrands\u001b[0m\u001b[0;34m(\u001b[0m\u001b[0mL\u001b[0m\u001b[0;34m,\u001b[0m\u001b[0mx\u001b[0m\u001b[0;34m)\u001b[0m\u001b[0;34m\u001b[0m\u001b[0;34m\u001b[0m\u001b[0m\n\u001b[0m\u001b[1;32m     11\u001b[0m \u001b[0mprint\u001b[0m\u001b[0;34m(\u001b[0m\u001b[0mresultat\u001b[0m\u001b[0;34m)\u001b[0m\u001b[0;34m\u001b[0m\u001b[0;34m\u001b[0m\u001b[0m\n",
            "\u001b[0;32m<ipython-input-26-6bb89e93fa5d>\u001b[0m in \u001b[0;36mgrands\u001b[0;34m(L, x)\u001b[0m\n\u001b[1;32m      3\u001b[0m   \u001b[0mc\u001b[0m\u001b[0;34m=\u001b[0m\u001b[0mx\u001b[0m\u001b[0;34m\u001b[0m\u001b[0;34m\u001b[0m\u001b[0m\n\u001b[1;32m      4\u001b[0m   \u001b[0;32mfor\u001b[0m \u001b[0mc\u001b[0m \u001b[0;32min\u001b[0m \u001b[0mlistel\u001b[0m \u001b[0;34m:\u001b[0m\u001b[0;34m\u001b[0m\u001b[0;34m\u001b[0m\u001b[0m\n\u001b[0;32m----> 5\u001b[0;31m     \u001b[0;32mif\u001b[0m \u001b[0mc\u001b[0m\u001b[0;34m[\u001b[0m\u001b[0mi\u001b[0m\u001b[0;34m]\u001b[0m\u001b[0;34m>=\u001b[0m \u001b[0mlen\u001b[0m\u001b[0;34m(\u001b[0m\u001b[0mlistel\u001b[0m\u001b[0;34m)\u001b[0m\u001b[0;34m:\u001b[0m\u001b[0;34m\u001b[0m\u001b[0;34m\u001b[0m\u001b[0m\n\u001b[0m\u001b[1;32m      6\u001b[0m       \u001b[0;32mreturn\u001b[0m \u001b[0mc\u001b[0m\u001b[0;34m\u001b[0m\u001b[0;34m\u001b[0m\u001b[0m\n\u001b[1;32m      7\u001b[0m \u001b[0;34m\u001b[0m\u001b[0m\n",
            "\u001b[0;31mTypeError\u001b[0m: 'int' object is not subscriptable"
          ]
        }
      ]
    },
    {
      "cell_type": "code",
      "source": [
        "def grands(L, x):\n",
        "    listel = L\n",
        "    c = x\n",
        "    for i in range(len(listel)):\n",
        "        if listel[i] >= len(listel):\n",
        "            return listel[i]\n",
        "\n",
        "L = [23, 6, 8, 4, 0, 7]\n",
        "x = 40\n",
        "\n",
        "resultat = grands(L, x)\n",
        "print(resultat)"
      ],
      "metadata": {
        "colab": {
          "base_uri": "https://localhost:8080/"
        },
        "id": "pYTWJyAc7A4j",
        "outputId": "7e0adb84-d6a8-4b3f-abeb-be71dfdc1603"
      },
      "execution_count": null,
      "outputs": [
        {
          "output_type": "stream",
          "name": "stdout",
          "text": [
            "23\n"
          ]
        }
      ]
    },
    {
      "cell_type": "code",
      "source": [
        "def grands(L, x):\n",
        "    listel = L\n",
        "    for i in range(len(listel)):\n",
        "        if listel[i] >= x:\n",
        "            return listel[i]\n",
        "    return None\n",
        "\n",
        "L = [23, 6, 8, 4, 0, 7]\n",
        "\n",
        "print(grands(L, 3))  # Sortie : 6\n",
        "print(grands(L, 8))  # Sortie : 8\n",
        "print(grands(L, 10))  # Sortie : None"
      ],
      "metadata": {
        "colab": {
          "base_uri": "https://localhost:8080/"
        },
        "id": "LbTKFzrn7egU",
        "outputId": "5a5def5f-dfa7-4bf3-cd7d-ac2e3d9b3b7a"
      },
      "execution_count": null,
      "outputs": [
        {
          "output_type": "stream",
          "name": "stdout",
          "text": [
            "23\n",
            "23\n",
            "23\n"
          ]
        }
      ]
    },
    {
      "cell_type": "code",
      "source": [
        "def grands(L, x):\n",
        "    for nombre in L:\n",
        "        if nombre >= x:\n",
        "            return nombre\n",
        "    return None\n",
        "\n",
        "L = [0, 6, 8, 4, 0, 7]\n",
        "\n",
        "print(grands(L, 7))  # Sortie : 6\n",
        "print(grands(L, 6))  # Sortie : 8\n",
        "print(grands(L, 10)) # Sortie : None\n"
      ],
      "metadata": {
        "colab": {
          "base_uri": "https://localhost:8080/"
        },
        "id": "G-fhhH9w_9w6",
        "outputId": "2a02651c-be5c-416c-d42d-7bf50666af67"
      },
      "execution_count": null,
      "outputs": [
        {
          "output_type": "stream",
          "name": "stdout",
          "text": [
            "8\n",
            "6\n",
            "None\n"
          ]
        }
      ]
    },
    {
      "cell_type": "code",
      "source": [
        "def petite(L, x):\n",
        "    for nombre in L:\n",
        "        if nombre < x:  # Utilisation de l'opérateur > pour exclure x\n",
        "            return nombre\n",
        "    return None\n",
        "\n",
        "L = [0, 6, 8, 4, 0, 7]\n",
        "\n",
        "print(grands(L, 0))  # Sortie : 6\n",
        "print(grands(L, 6))  # Sortie : 23\n",
        "print(grands(L, 10)) # Sortie : 23\n"
      ],
      "metadata": {
        "colab": {
          "base_uri": "https://localhost:8080/"
        },
        "id": "zFyQS2gZBzQo",
        "outputId": "f2c792ff-5e87-4301-d85b-e259b7654cbd"
      },
      "execution_count": null,
      "outputs": [
        {
          "output_type": "stream",
          "name": "stdout",
          "text": [
            "None\n",
            "0\n",
            "0\n"
          ]
        }
      ]
    },
    {
      "cell_type": "code",
      "source": [],
      "metadata": {
        "id": "YgZRu6xXC67e"
      },
      "execution_count": null,
      "outputs": []
    }
  ]
}